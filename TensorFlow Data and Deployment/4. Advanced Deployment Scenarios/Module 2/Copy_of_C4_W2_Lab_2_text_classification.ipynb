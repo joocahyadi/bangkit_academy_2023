{
  "nbformat": 4,
  "nbformat_minor": 0,
  "metadata": {
    "accelerator": "GPU",
    "colab": {
      "provenance": []
    },
    "kernelspec": {
      "display_name": "Python 3",
      "language": "python",
      "name": "python3"
    },
    "language_info": {
      "codemirror_mode": {
        "name": "ipython",
        "version": 3
      },
      "file_extension": ".py",
      "mimetype": "text/x-python",
      "name": "python",
      "nbconvert_exporter": "python",
      "pygments_lexer": "ipython3",
      "version": "3.8.5"
    }
  },
  "cells": [
    {
      "cell_type": "code",
      "metadata": {
        "id": "zX4Kg8DUTKWO"
      },
      "source": [
        "#@title Licensed under the Apache License, Version 2.0 (the \"License\");\n",
        "# you may not use this file except in compliance with the License.\n",
        "# You may obtain a copy of the License at\n",
        "#\n",
        "# https://www.apache.org/licenses/LICENSE-2.0\n",
        "#\n",
        "# Unless required by applicable law or agreed to in writing, software\n",
        "# distributed under the License is distributed on an \"AS IS\" BASIS,\n",
        "# WITHOUT WARRANTIES OR CONDITIONS OF ANY KIND, either express or implied.\n",
        "# See the License for the specific language governing permissions and\n",
        "# limitations under the License."
      ],
      "execution_count": null,
      "outputs": []
    },
    {
      "cell_type": "markdown",
      "metadata": {
        "id": "-N3Pz2T9mFZ-"
      },
      "source": [
        "##### Copyright 2019 The TensorFlow Authors."
      ]
    },
    {
      "cell_type": "code",
      "metadata": {
        "cellView": "form",
        "id": "5p90mFICmFK2"
      },
      "source": [
        "#@title Licensed under the Apache License, Version 2.0 (the \"License\");\n",
        "# you may not use this file except in compliance with the License.\n",
        "# You may obtain a copy of the License at\n",
        "#\n",
        "# https://www.apache.org/licenses/LICENSE-2.0\n",
        "#\n",
        "# Unless required by applicable law or agreed to in writing, software\n",
        "# distributed under the License is distributed on an \"AS IS\" BASIS,\n",
        "# WITHOUT WARRANTIES OR CONDITIONS OF ANY KIND, either express or implied.\n",
        "# See the License for the specific language governing permissions and\n",
        "# limitations under the License."
      ],
      "execution_count": null,
      "outputs": []
    },
    {
      "cell_type": "markdown",
      "metadata": {
        "id": "0IMg_z16l_2Z"
      },
      "source": [
        "# Text Classification\n",
        "\n",
        "In this notebook we will classify movie reviews as being either `positive` or `negative`. We'll use the [IMDB dataset](https://www.tensorflow.org/datasets/catalog/imdb_reviews) that contains the text of 50,000 movie reviews from the [Internet Movie Database](https://www.imdb.com/). These are split into 25,000 reviews for training and 25,000 reviews for testing. The training and testing sets are *balanced*, meaning they contain an equal number of positive and negative reviews."
      ]
    },
    {
      "cell_type": "markdown",
      "metadata": {
        "id": "l3JBInnkl_2a"
      },
      "source": [
        "# Setup"
      ]
    },
    {
      "cell_type": "code",
      "metadata": {
        "id": "02pc7RECl_2b",
        "colab": {
          "base_uri": "https://localhost:8080/"
        },
        "outputId": "94d41ecd-ef50-4358-cc97-db591b2679e9"
      },
      "source": [
        "try:\n",
        "    %tensorflow_version 2.x\n",
        "except:\n",
        "    pass"
      ],
      "execution_count": 1,
      "outputs": [
        {
          "output_type": "stream",
          "name": "stdout",
          "text": [
            "Colab only includes TensorFlow 2.x; %tensorflow_version has no effect.\n"
          ]
        }
      ]
    },
    {
      "cell_type": "code",
      "metadata": {
        "id": "-B-0zxxtwFQV",
        "scrolled": true,
        "colab": {
          "base_uri": "https://localhost:8080/"
        },
        "outputId": "57c29c6c-0555-42e5-9f12-2725183e6628"
      },
      "source": [
        "import tensorflow as tf\n",
        "import tensorflow_hub as hub\n",
        "import tensorflow_datasets as tfds\n",
        "tfds.disable_progress_bar()\n",
        "\n",
        "print(\"\\u2022 Using TensorFlow Version:\", tf.__version__)"
      ],
      "execution_count": 2,
      "outputs": [
        {
          "output_type": "stream",
          "name": "stdout",
          "text": [
            "• Using TensorFlow Version: 2.12.0\n"
          ]
        }
      ]
    },
    {
      "cell_type": "markdown",
      "metadata": {
        "id": "JBIRo8Xtl_2h"
      },
      "source": [
        "## Download the IMDB Dataset\n",
        "\n",
        "We will download the [IMDB dataset](https://www.tensorflow.org/datasets/catalog/imdb_reviews) using TensorFlow Datasets. We will use a training set, a validation set, and a test set. Since the IMDB dataset doesn't have a validation split, we will use the first 60\\% of the training set for training, and the last 40\\% of the training set for validation."
      ]
    },
    {
      "cell_type": "code",
      "metadata": {
        "id": "gfnt5ibsl_2i",
        "scrolled": false,
        "colab": {
          "base_uri": "https://localhost:8080/"
        },
        "outputId": "3be5853a-1a42-472c-c741-ad04d2a0f562"
      },
      "source": [
        "splits = ['train[:60%]', 'train[-40%:]', 'test']\n",
        "\n",
        "splits, info = tfds.load(name=\"imdb_reviews\", with_info=True, split=splits, as_supervised=True)\n",
        "\n",
        "train_data, validation_data, test_data = splits"
      ],
      "execution_count": 3,
      "outputs": [
        {
          "output_type": "stream",
          "name": "stdout",
          "text": [
            "Downloading and preparing dataset 80.23 MiB (download: 80.23 MiB, generated: Unknown size, total: 80.23 MiB) to /root/tensorflow_datasets/imdb_reviews/plain_text/1.0.0...\n",
            "Dataset imdb_reviews downloaded and prepared to /root/tensorflow_datasets/imdb_reviews/plain_text/1.0.0. Subsequent calls will reuse this data.\n"
          ]
        }
      ]
    },
    {
      "cell_type": "markdown",
      "metadata": {
        "id": "PbbsJKch1lL5"
      },
      "source": [
        "## Explore the Data \n",
        "\n",
        "Let's take a moment to look at the data."
      ]
    },
    {
      "cell_type": "code",
      "metadata": {
        "id": "3gh4Taekl_2k",
        "colab": {
          "base_uri": "https://localhost:8080/"
        },
        "outputId": "7e15307d-6a9d-4554-cd02-58b93f3870dd"
      },
      "source": [
        "num_train_examples = info.splits['train'].num_examples\n",
        "num_test_examples = info.splits['test'].num_examples\n",
        "num_classes = info.features['label'].num_classes\n",
        "\n",
        "print('The Dataset has a total of:')\n",
        "print('\\u2022 {:,} classes'.format(num_classes))\n",
        "\n",
        "print('\\u2022 {:,} movie reviews for training'.format(num_train_examples))\n",
        "print('\\u2022 {:,} movie reviews for testing'.format(num_test_examples))"
      ],
      "execution_count": 4,
      "outputs": [
        {
          "output_type": "stream",
          "name": "stdout",
          "text": [
            "The Dataset has a total of:\n",
            "• 2 classes\n",
            "• 25,000 movie reviews for training\n",
            "• 25,000 movie reviews for testing\n"
          ]
        }
      ]
    },
    {
      "cell_type": "markdown",
      "metadata": {
        "id": "SIyvvYFF2DXz"
      },
      "source": [
        "The labels are either 0 or 1, where 0 is a negative review, and 1 is a positive review. We will create a list with the corresponding class names, so that we can map labels to class names later on."
      ]
    },
    {
      "cell_type": "code",
      "metadata": {
        "id": "1SAGQKTdl_2n"
      },
      "source": [
        "class_names = ['negative', 'positive']"
      ],
      "execution_count": 5,
      "outputs": []
    },
    {
      "cell_type": "markdown",
      "metadata": {
        "id": "wrLs9vQr16JH"
      },
      "source": [
        "Each example consists of a sentence representing the movie review and a corresponding label. The sentence is not preprocessed in any way. Let's take a look at the first example of the training set.  "
      ]
    },
    {
      "cell_type": "code",
      "metadata": {
        "id": "u6lqHTTzl_2q",
        "colab": {
          "base_uri": "https://localhost:8080/"
        },
        "outputId": "7c3561b2-37bc-48a5-e789-d7476ef1082e"
      },
      "source": [
        "for review, label in train_data.take(1):\n",
        "    review = review.numpy()\n",
        "    label = label.numpy()\n",
        "\n",
        "    print('\\nMovie Review:\\n\\n', review)\n",
        "    print('\\nLabel:', class_names[label])"
      ],
      "execution_count": 6,
      "outputs": [
        {
          "output_type": "stream",
          "name": "stdout",
          "text": [
            "\n",
            "Movie Review:\n",
            "\n",
            " b\"This was an absolutely terrible movie. Don't be lured in by Christopher Walken or Michael Ironside. Both are great actors, but this must simply be their worst role in history. Even their great acting could not redeem this movie's ridiculous storyline. This movie is an early nineties US propaganda piece. The most pathetic scenes were those when the Columbian rebels were making their cases for revolutions. Maria Conchita Alonso appeared phony, and her pseudo-love affair with Walken was nothing but a pathetic emotional plug in a movie that was devoid of any real meaning. I am disappointed that there are movies like this, ruining actor's like Christopher Walken's good name. I could barely sit through it.\"\n",
            "\n",
            "Label: negative\n"
          ]
        }
      ]
    },
    {
      "cell_type": "markdown",
      "metadata": {
        "id": "_Tam__wal_2s"
      },
      "source": [
        "## Load Word Embeddings\n",
        "\n",
        "In this example, the input data consists of sentences. The labels to predict are either 0 or 1.\n",
        "\n",
        "One way to represent the text is to convert sentences into word embeddings. Word embeddings, are an efficient way to represent words using dense vectors, where semantically similar words have similar vectors. We can use a pre-trained text embedding as the first layer of our model, which will have two advantages:\n",
        "\n",
        "*   We don't have to worry anout text preprocessing.\n",
        "*   We can benefit from transfer learning.\n",
        "\n",
        "For this example we will use a model from [TensorFlow Hub](https://tfhub.dev/) called [google/tf2-preview/gnews-swivel-20dim/1](https://tfhub.dev/google/tf2-preview/gnews-swivel-20dim/1). We'll create a `hub.KerasLayer` that uses the TensorFlow Hub model to embed the sentences. We can choose to fine-tune the TF hub module weights during training by setting the `trainable` parameter to `True`."
      ]
    },
    {
      "cell_type": "code",
      "metadata": {
        "id": "wbYukNNs2y7H"
      },
      "source": [
        "# if you are running the notebook on Colab\n",
        "embedding = \"https://tfhub.dev/google/tf2-preview/gnews-swivel-20dim/1\"\n",
        "\n",
        "# # if you are running the notebook on your local machine\n",
        "# embedding = \"./models/tf2-preview_gnews-swivel-20dim_1\"\n",
        "\n",
        "hub_layer = hub.KerasLayer(embedding, input_shape=[], dtype=tf.string, trainable=True)"
      ],
      "execution_count": 7,
      "outputs": []
    },
    {
      "cell_type": "markdown",
      "metadata": {
        "id": "P6V9WM7Gl_2v"
      },
      "source": [
        "## Build Pipeline"
      ]
    },
    {
      "cell_type": "code",
      "metadata": {
        "id": "IK1a7HTYl_2w"
      },
      "source": [
        "batch_size = 512\n",
        "\n",
        "train_batches = train_data.shuffle(num_train_examples // 4).batch(batch_size).prefetch(1)\n",
        "validation_batches = validation_data.batch(batch_size).prefetch(1)\n",
        "test_batches = test_data.batch(batch_size)"
      ],
      "execution_count": 8,
      "outputs": []
    },
    {
      "cell_type": "markdown",
      "metadata": {
        "id": "vJ8uZcqOl_2y"
      },
      "source": [
        "## Build the Model\n",
        "\n",
        "In the code below we will build a Keras `Sequential` model with the following layers:\n",
        "\n",
        "1. The first layer is a TensorFlow Hub layer. This layer uses a pre-trained SavedModel to map a sentence into its embedding vector. The model that we are using ([google/tf2-preview/gnews-swivel-20dim/1](https://tfhub.dev/google/tf2-preview/gnews-swivel-20dim/1)) splits the sentence into tokens, embeds each token and then combines the embedding. The resulting dimensions are: `(num_examples, embedding_dimension)`.\n",
        "\n",
        "\n",
        "2. This fixed-length output vector is piped through a fully-connected (`Dense`) layer with 16 hidden units.\n",
        "\n",
        "\n",
        "3. The last layer is densely connected with a single output node. Using the `sigmoid` activation function, this value is a float between 0 and 1, representing a probability, or confidence level."
      ]
    },
    {
      "cell_type": "code",
      "metadata": {
        "id": "2mvUjhw02y9-"
      },
      "source": [
        "model = tf.keras.Sequential([\n",
        "        hub_layer,\n",
        "        tf.keras.layers.Dense(16, activation='relu'),\n",
        "        tf.keras.layers.Dense(1, activation='sigmoid')])"
      ],
      "execution_count": 9,
      "outputs": []
    },
    {
      "cell_type": "markdown",
      "metadata": {
        "id": "K-kJSvK57S5F"
      },
      "source": [
        "## Train the Model\n",
        "\n",
        "Since this is a binary classification problem and the model outputs a probability (a single-unit layer with a sigmoid activation), we'll use the `binary_crossentropy` loss function. "
      ]
    },
    {
      "cell_type": "code",
      "metadata": {
        "id": "3S8wWDol2zBP",
        "colab": {
          "base_uri": "https://localhost:8080/"
        },
        "outputId": "d7a84218-394a-41f3-ad90-5c339c29ad3c"
      },
      "source": [
        "model.compile(optimizer='adam',\n",
        "              loss='binary_crossentropy',\n",
        "              metrics=['accuracy'])\n",
        "\n",
        "history = model.fit(train_batches,\n",
        "                    epochs=20,\n",
        "                    validation_data=validation_batches)"
      ],
      "execution_count": 10,
      "outputs": [
        {
          "output_type": "stream",
          "name": "stdout",
          "text": [
            "Epoch 1/20\n",
            "30/30 [==============================] - 15s 315ms/step - loss: 0.9832 - accuracy: 0.4755 - val_loss: 0.7978 - val_accuracy: 0.4468\n",
            "Epoch 2/20\n",
            "30/30 [==============================] - 7s 231ms/step - loss: 0.7082 - accuracy: 0.5485 - val_loss: 0.6514 - val_accuracy: 0.6326\n",
            "Epoch 3/20\n",
            "30/30 [==============================] - 8s 249ms/step - loss: 0.6189 - accuracy: 0.6639 - val_loss: 0.5997 - val_accuracy: 0.6855\n",
            "Epoch 4/20\n",
            "30/30 [==============================] - 7s 225ms/step - loss: 0.5705 - accuracy: 0.7150 - val_loss: 0.5586 - val_accuracy: 0.7255\n",
            "Epoch 5/20\n",
            "30/30 [==============================] - 6s 207ms/step - loss: 0.5296 - accuracy: 0.7524 - val_loss: 0.5229 - val_accuracy: 0.7506\n",
            "Epoch 6/20\n",
            "30/30 [==============================] - 6s 179ms/step - loss: 0.4902 - accuracy: 0.7773 - val_loss: 0.4864 - val_accuracy: 0.7767\n",
            "Epoch 7/20\n",
            "30/30 [==============================] - 6s 191ms/step - loss: 0.4487 - accuracy: 0.8049 - val_loss: 0.4516 - val_accuracy: 0.7966\n",
            "Epoch 8/20\n",
            "30/30 [==============================] - 6s 199ms/step - loss: 0.4106 - accuracy: 0.8257 - val_loss: 0.4256 - val_accuracy: 0.8118\n",
            "Epoch 9/20\n",
            "30/30 [==============================] - 6s 182ms/step - loss: 0.3783 - accuracy: 0.8432 - val_loss: 0.4014 - val_accuracy: 0.8240\n",
            "Epoch 10/20\n",
            "30/30 [==============================] - 7s 235ms/step - loss: 0.3496 - accuracy: 0.8575 - val_loss: 0.3809 - val_accuracy: 0.8337\n",
            "Epoch 11/20\n",
            "30/30 [==============================] - 5s 163ms/step - loss: 0.3232 - accuracy: 0.8714 - val_loss: 0.3649 - val_accuracy: 0.8423\n",
            "Epoch 12/20\n",
            "30/30 [==============================] - 6s 199ms/step - loss: 0.3005 - accuracy: 0.8822 - val_loss: 0.3502 - val_accuracy: 0.8492\n",
            "Epoch 13/20\n",
            "30/30 [==============================] - 5s 148ms/step - loss: 0.2789 - accuracy: 0.8923 - val_loss: 0.3385 - val_accuracy: 0.8534\n",
            "Epoch 14/20\n",
            "30/30 [==============================] - 5s 169ms/step - loss: 0.2603 - accuracy: 0.8999 - val_loss: 0.3320 - val_accuracy: 0.8559\n",
            "Epoch 15/20\n",
            "30/30 [==============================] - 5s 173ms/step - loss: 0.2434 - accuracy: 0.9083 - val_loss: 0.3223 - val_accuracy: 0.8601\n",
            "Epoch 16/20\n",
            "30/30 [==============================] - 5s 156ms/step - loss: 0.2270 - accuracy: 0.9155 - val_loss: 0.3148 - val_accuracy: 0.8649\n",
            "Epoch 17/20\n",
            "30/30 [==============================] - 5s 156ms/step - loss: 0.2126 - accuracy: 0.9227 - val_loss: 0.3103 - val_accuracy: 0.8657\n",
            "Epoch 18/20\n",
            "30/30 [==============================] - 6s 185ms/step - loss: 0.1994 - accuracy: 0.9275 - val_loss: 0.3065 - val_accuracy: 0.8675\n",
            "Epoch 19/20\n",
            "30/30 [==============================] - 5s 152ms/step - loss: 0.1871 - accuracy: 0.9333 - val_loss: 0.3039 - val_accuracy: 0.8693\n",
            "Epoch 20/20\n",
            "30/30 [==============================] - 4s 142ms/step - loss: 0.1754 - accuracy: 0.9383 - val_loss: 0.3023 - val_accuracy: 0.8698\n"
          ]
        }
      ]
    },
    {
      "cell_type": "markdown",
      "metadata": {
        "id": "MyORnj-u8F_j"
      },
      "source": [
        "## Evaluate the Model\n",
        "\n",
        "We will now see how well our model performs on the testing set."
      ]
    },
    {
      "cell_type": "code",
      "metadata": {
        "id": "Ch6hq1_kl_23",
        "colab": {
          "base_uri": "https://localhost:8080/"
        },
        "outputId": "46b33939-3064-405a-bb7c-c4f678296dd5"
      },
      "source": [
        "eval_results = model.evaluate(test_batches, verbose=0)\n",
        "\n",
        "for metric, value in zip(model.metrics_names, eval_results):\n",
        "    print(metric + ': {:.3}'.format(value))"
      ],
      "execution_count": 11,
      "outputs": [
        {
          "output_type": "stream",
          "name": "stdout",
          "text": [
            "loss: 0.318\n",
            "accuracy: 0.865\n"
          ]
        }
      ]
    },
    {
      "cell_type": "code",
      "source": [],
      "metadata": {
        "id": "sHa-ZnsSe5wl"
      },
      "execution_count": null,
      "outputs": []
    }
  ]
}